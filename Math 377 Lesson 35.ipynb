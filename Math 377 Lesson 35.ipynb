{
 "cells": [
  {
   "cell_type": "code",
   "execution_count": 1,
   "metadata": {},
   "outputs": [],
   "source": [
    "from datascience import *\n",
    "import numpy as np\n",
    "import pandas as pd\n",
    "from math import *\n",
    "from scipy import stats\n",
    "import matplotlib.pyplot as plt\n",
    "%matplotlib inline"
   ]
  },
  {
   "cell_type": "markdown",
   "metadata": {},
   "source": [
    "## Lesson 35: Regression"
   ]
  },
  {
   "cell_type": "markdown",
   "metadata": {},
   "source": [
    "Over the last two lessons, you went over regression in Data 8.3x. In these sections, you learned how to calculate the slope and intercept of a line fit to a bivariate sample. For example, using the `baby.csv` dataset, you can use regression to predict birthweight given the gestational age of the baby at birth. "
   ]
  },
  {
   "cell_type": "markdown",
   "metadata": {},
   "source": [
    "### Exercise 1\n",
    "\n",
    "Find the least squares line that predicts birthweight based on the gestational age of a baby. You should use `minimize`, an optimization method in the `datascience` package. Note that you could use standardization (similar to what they did in Data 8.3x, `lec7.ipynb`) but the resulting intercept and slope would be in standardized units, and would need to be transformed in order to be interpretable. "
   ]
  },
  {
   "cell_type": "code",
   "execution_count": 2,
   "metadata": {},
   "outputs": [
    {
     "data": {
      "text/html": [
       "<table border=\"1\" class=\"dataframe\">\n",
       "    <thead>\n",
       "        <tr>\n",
       "            <th>Birth Weight</th> <th>Gestational Days</th> <th>Maternal Age</th> <th>Maternal Height</th> <th>Maternal Pregnancy Weight</th> <th>Maternal Smoker</th>\n",
       "        </tr>\n",
       "    </thead>\n",
       "    <tbody>\n",
       "        <tr>\n",
       "            <td>120         </td> <td>284             </td> <td>27          </td> <td>62             </td> <td>100                      </td> <td>False          </td>\n",
       "        </tr>\n",
       "        <tr>\n",
       "            <td>113         </td> <td>282             </td> <td>33          </td> <td>64             </td> <td>135                      </td> <td>False          </td>\n",
       "        </tr>\n",
       "        <tr>\n",
       "            <td>128         </td> <td>279             </td> <td>28          </td> <td>64             </td> <td>115                      </td> <td>True           </td>\n",
       "        </tr>\n",
       "    </tbody>\n",
       "</table>\n",
       "<p>... (1171 rows omitted)</p>"
      ],
      "text/plain": [
       "<IPython.core.display.HTML object>"
      ]
     },
     "metadata": {},
     "output_type": "display_data"
    }
   ],
   "source": [
    "baby = Table.read_table('baby.csv')\n",
    "baby.show(3)"
   ]
  },
  {
   "cell_type": "code",
   "execution_count": 3,
   "metadata": {},
   "outputs": [
    {
     "data": {
      "image/png": "[encoded data removed]",
      "text/plain": [
       "<Figure size 432x288 with 1 Axes>"
      ]
     },
     "metadata": {},
     "output_type": "display_data"
    }
   ],
   "source": [
    "plt.scatter(baby.column(1),baby.column(0))\n",
    "plt.show()"
   ]
  },
  {
   "cell_type": "code",
   "execution_count": 4,
   "metadata": {},
   "outputs": [
    {
     "name": "stdout",
     "output_type": "stream",
     "text": [
      "-0.07039869065634102 0.4284036994399665\n"
     ]
    }
   ],
   "source": [
    "def mse(any_slope,any_intercept):\n",
    "    x = baby.column(1)\n",
    "    y = baby.column(0)\n",
    "    predicted = any_slope*x + any_intercept\n",
    "    return np.mean((y-predicted)**2)\n",
    "slope = minimize(mse)[0]\n",
    "intercept = minimize(mse)[1]\n",
    "print(intercept,slope)"
   ]
  },
  {
   "cell_type": "markdown",
   "metadata": {},
   "source": [
    "In the context of the data, interpret the intercept and slope. "
   ]
  },
  {
   "cell_type": "markdown",
   "metadata": {},
   "source": [
    "Positive relationship between gestational days and birthweight"
   ]
  },
  {
   "cell_type": "markdown",
   "metadata": {},
   "source": [
    "The slope is 0.428. It seems reasonable to expect this slope to be significantly higher than zero; it makes sense that gestational age would impact birthweight. Let's check using bootstrapping. "
   ]
  },
  {
   "cell_type": "code",
   "execution_count": 19,
   "metadata": {},
   "outputs": [
    {
     "name": "stderr",
     "output_type": "stream",
     "text": [
      "C:\\Users\\C19Michael.Triner\\AppData\\Local\\Continuum\\anaconda3\\lib\\site-packages\\matplotlib\\axes\\_axes.py:6462: UserWarning: The 'normed' kwarg is deprecated, and has been replaced by the 'density' kwarg.\n",
      "  warnings.warn(\"The 'normed' kwarg is deprecated, and has been \"\n"
     ]
    },
    {
     "data": {
      "image/png": "[encoded data removed]",
      "text/plain": [
       "<Figure size 432x288 with 1 Axes>"
      ]
     },
     "metadata": {},
     "output_type": "display_data"
    }
   ],
   "source": [
    "slopes = []\n",
    "intercepts = []\n",
    "for i in np.arange(5000):\n",
    "    baby1 = baby.sample(with_replacement=True)\n",
    "    def mse1(any_slope1,any_intercept1):\n",
    "        x1 = baby1.column(1)\n",
    "        y1 = baby1.column(0)\n",
    "        predicted1 = any_slope1*x1 + any_intercept1\n",
    "        return np.mean((y1-predicted1)**2)\n",
    "    slope1 = minimize(mse1)[0]\n",
    "    intercept1 = minimize(mse1)[1]\n",
    "    slopes = np.append(slopes,slope1)\n",
    "    intercepts = np.append(intercepts,intercept1)\n",
    "    \n",
    "Table().with_column('Slopes',slopes).hist(bins=5)"
   ]
  },
  {
   "cell_type": "markdown",
   "metadata": {},
   "source": [
    "### Exercise 2\n",
    "\n",
    "For a baby born at 40 weeks gestational age, what do we expect to be the average birthweight according to this model?"
   ]
  },
  {
   "cell_type": "code",
   "execution_count": 6,
   "metadata": {},
   "outputs": [
    {
     "data": {
      "text/plain": [
       "119.88263715253429"
      ]
     },
     "execution_count": 6,
     "metadata": {},
     "output_type": "execute_result"
    }
   ],
   "source": [
    "slope*40*7+intercept"
   ]
  },
  {
   "cell_type": "markdown",
   "metadata": {},
   "source": [
    "Using bootstrapping, build a 95% confidence interval around this estimate. Interpret this interval, carefully. "
   ]
  },
  {
   "cell_type": "code",
   "execution_count": 7,
   "metadata": {},
   "outputs": [
    {
     "data": {
      "text/plain": [
       "array([118.99457714, 120.99779605])"
      ]
     },
     "execution_count": 7,
     "metadata": {},
     "output_type": "execute_result"
    }
   ],
   "source": [
    "fortyWeek = []\n",
    "newSlope = []\n",
    "newInt = []\n",
    "for i in np.arange(1000):\n",
    "    baby2 = baby.sample(with_replacement =True)\n",
    "    def mse2(any_slope2,any_intercept2):\n",
    "        x2 = baby2.column(1)\n",
    "        y2 = baby2.column(0)\n",
    "        predicted2 = any_slope2*x2 + any_intercept2\n",
    "        return np.mean((y2-predicted2)**2)\n",
    "    slopes2 = minimize(mse2)[0]\n",
    "    intercepts2 = minimize(mse2)[1]\n",
    "    newSlope = np.append(newSlope,slopes2)\n",
    "    newInt = np.append(newInt,intercepts2)\n",
    "    fortyWeek = np.append(fortyWeek,slopes2*40*7+intercepts2)\n",
    "    \n",
    "\n",
    "percentile([2.5,97.5],fortyWeek)\n"
   ]
  },
  {
   "cell_type": "markdown",
   "metadata": {},
   "source": [
    "This is a confidence inteval on the **mean** birthweight for a baby born at 40 weeks. "
   ]
  },
  {
   "cell_type": "markdown",
   "metadata": {},
   "source": [
    "### Exercise 3\n",
    "\n",
    "Suppose a baby is born at 40 weeks. Let's construct a confidence interval for the birthweight of *that baby*. This is different than the confidence interval on the mean birthweight of babies born at 40 weeks. This interval is known as a prediction interval. \n",
    "\n",
    "A simple way to find the prediction interval is to sample many times (with replacement) from the observed residuals and add to the predicted birthweight under the linear model. Find the percentiles of these simulations to obtain the interval. "
   ]
  },
  {
   "cell_type": "code",
   "execution_count": 14,
   "metadata": {},
   "outputs": [
    {
     "data": {
      "text/plain": [
       "array([ 86.14695361, 151.94732033])"
      ]
     },
     "execution_count": 14,
     "metadata": {},
     "output_type": "execute_result"
    }
   ],
   "source": [
    "residuals = baby.column(0)-(baby.column(1)*slope+intercept)\n",
    "residTable = Table().with_column('Residuals',residuals)\n",
    "rSample = residTable.sample(1000,with_replacement=True)\n",
    "newPredict = Table().with_column('Predictions',rSample.column(0) + (newSlope*40*7) + newInt)\n",
    "percentile([2.5,97.5],newPredict.column(0))\n"
   ]
  },
  {
   "cell_type": "markdown",
   "metadata": {},
   "source": [
    "It turns out that this method is a little oversimplified. A \"more correct\" method is below. This requires taking into account the *leverage* of each data point (basically a measure of impact to the model of each data point). "
   ]
  },
  {
   "cell_type": "code",
   "execution_count": 16,
   "metadata": {},
   "outputs": [
    {
     "data": {
      "text/plain": [
       "array([31.52610393, 96.95279514])"
      ]
     },
     "execution_count": 16,
     "metadata": {},
     "output_type": "execute_result"
    }
   ],
   "source": [
    "pred=intercept+slope*150\n",
    "leverage=1/baby.num_rows + ((baby.column(1)-np.mean(baby.column(1)))**2)/np.sum(((baby.column(1)-np.mean(baby.column(1)))**2))\n",
    "adjresiduals=residuals/np.sqrt(1-leverage)\n",
    "\n",
    "bs_all=[]\n",
    "for _ in np.arange(5000):\n",
    "    bs_y=(intercept+slope*baby.column(1))+np.random.choice(adjresiduals,size=baby.num_rows,replace=True)\n",
    "    resample=Table().with_columns(\"y\",bs_y,\"x\",baby.column(1))\n",
    "    bs_slope,bs_intercept=minimize(mse)\n",
    "    bs_residuals=bs_y-(bs_intercept+bs_slope*baby.column(1))\n",
    "    bs_adjresiduals=bs_residuals/np.sqrt(1-leverage)\n",
    "    bs_all=np.append(bs_all,150*(slope-bs_slope)+np.random.choice(bs_adjresiduals))\n",
    "\n",
    "percentile([2.5,97.5],pred+bs_all)"
   ]
  },
  {
   "cell_type": "code",
   "execution_count": null,
   "metadata": {},
   "outputs": [],
   "source": []
  }
 ],
 "metadata": {
  "kernelspec": {
   "display_name": "Python 3",
   "language": "python",
   "name": "python3"
  },
  "language_info": {
   "codemirror_mode": {
    "name": "ipython",
    "version": 3
   },
   "file_extension": ".py",
   "mimetype": "text/x-python",
   "name": "python",
   "nbconvert_exporter": "python",
   "pygments_lexer": "ipython3",
   "version": "3.6.5"
  }
 },
 "nbformat": 4,
 "nbformat_minor": 2
}
