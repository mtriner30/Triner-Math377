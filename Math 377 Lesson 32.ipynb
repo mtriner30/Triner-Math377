{
 "cells": [
  {
   "cell_type": "code",
   "execution_count": 1,
   "metadata": {},
   "outputs": [],
   "source": [
    "from datascience import *\n",
    "import numpy as np\n",
    "from math import *\n",
    "from scipy import stats\n",
    "import matplotlib.pyplot as plt\n",
    "%matplotlib inline"
   ]
  },
  {
   "cell_type": "markdown",
   "metadata": {},
   "source": [
    "## Lesson 32: Likelihood Ratio Tests\n",
    "## Michael Triner 9 November 2018"
   ]
  },
  {
   "cell_type": "markdown",
   "metadata": {},
   "source": [
    "Last time, we introduced Likelihood Ratio tests. Recall that the point of a likelihood ratio test is to compare the likelihood function under a hypothesized value of the parameter with the liklihood function at its maximum. Instead of looking at the ratio $\\Lambda$ itself, we often consider $-2\\log \\Lambda$ instead, since it has a handy distribution. \n",
    "\n",
    "### Example 1: Exponential Distribution\n",
    "\n",
    "Suppose $X_1,X_2,...,X_n$ is an iid sequence of random variables from the exponential distribution with unknown parameter $\\lambda$. Recall that the maximum likelihood estimate of $\\lambda$ is $1\\over\\bar{X}$. We collect a random sample of size 20 and want to test the hypothesis $H_0: \\lambda = 3$ vs $H_1: \\lambda \\neq 3$. Using the data in the python box below, conduct a likelihood ratio test on this hypothesis.  "
   ]
  },
  {
   "cell_type": "code",
   "execution_count": 8,
   "metadata": {},
   "outputs": [],
   "source": [
    "my_data=np.array([0.18,0.277,0.105,0.126,0.225,0.026,0.123,0.423,0.006,0.281,0.050,0.692,0.105,0.275,0.346,0.079,0.045,0.222,0.063,0.281])"
   ]
  },
  {
   "cell_type": "code",
   "execution_count": 9,
   "metadata": {},
   "outputs": [
    {
     "data": {
      "text/plain": [
       "4.719222360188457"
      ]
     },
     "execution_count": 9,
     "metadata": {},
     "output_type": "execute_result"
    }
   ],
   "source": [
    "lamML = 1/np.average(my_data)\n",
    "testStat = 2*((20*log(lamML)-lamML*np.sum(my_data))-(20*log(3)-3*np.sum(my_data)))\n",
    "testStat"
   ]
  },
  {
   "cell_type": "code",
   "execution_count": 27,
   "metadata": {},
   "outputs": [
    {
     "data": {
      "text/plain": [
       "0.029827229194775207"
      ]
     },
     "execution_count": 27,
     "metadata": {},
     "output_type": "execute_result"
    }
   ],
   "source": [
    "pVal = 1-stats.chi2.cdf(testStat,1)\n",
    "pVal"
   ]
  },
  {
   "cell_type": "markdown",
   "metadata": {},
   "source": [
    "P-Value is < 0.05 thus we reject the null hypothesis"
   ]
  },
  {
   "cell_type": "markdown",
   "metadata": {},
   "source": [
    "#### Power\n",
    "\n",
    "Suppose that the true value of $\\lambda$ is 5. Let's determine the power of this test. Let $n=20$. Then determine the power if $n=50$. Remember, power is the probability of correctly rejecting the null hypothesis. "
   ]
  },
  {
   "cell_type": "markdown",
   "metadata": {},
   "source": [
    "First, find what value of $-2 \\log \\Lambda$ would lead you to reject $H_0$. This is sometimes called the critical value. "
   ]
  },
  {
   "cell_type": "code",
   "execution_count": 55,
   "metadata": {},
   "outputs": [
    {
     "data": {
      "text/plain": [
       "3.841458820694124"
      ]
     },
     "execution_count": 55,
     "metadata": {},
     "output_type": "execute_result"
    }
   ],
   "source": [
    "critVal = stats.chi2.ppf(.95,1)\n",
    "critVal"
   ]
  },
  {
   "cell_type": "markdown",
   "metadata": {},
   "source": [
    "Next, obtain the power. Obtain a sample of size 20 from the true population and obtain the value of $-2\\log \\Lambda$ for this sample. Repeat many times and determine how often you reject the null hypothesis. "
   ]
  },
  {
   "cell_type": "code",
   "execution_count": 72,
   "metadata": {},
   "outputs": [
    {
     "name": "stdout",
     "output_type": "stream",
     "text": [
      "Reject the null:  59.35 % of the time\n"
     ]
    }
   ],
   "source": [
    "testStats =[]\n",
    "for i in np.arange(10000):\n",
    "    my_data = stats.expon.rvs(size=20,scale=1/5)\n",
    "    lamML = 1/np.average(my_data)\n",
    "    testStat = 2*((20*log(lamML)-lamML*np.sum(my_data))-(20*log(3)-3*np.sum(my_data)))\n",
    "    testStats = np.append(testStats,testStat)\n",
    "reject = np.count_nonzero(testStats>=critVal)/10000\n",
    "print('Reject the null: ',reject*100, '% of the time')"
   ]
  },
  {
   "cell_type": "markdown",
   "metadata": {},
   "source": [
    "Repeat for a sample size of 50. What do you expect to happen to power? "
   ]
  },
  {
   "cell_type": "code",
   "execution_count": 73,
   "metadata": {},
   "outputs": [
    {
     "name": "stdout",
     "output_type": "stream",
     "text": [
      "Reject the null:  95.04 % of the time\n"
     ]
    }
   ],
   "source": [
    "testStats =[]\n",
    "for i in np.arange(10000):\n",
    "    my_data = stats.expon.rvs(size=50,scale=1/5)\n",
    "    lamML = 1/np.average(my_data)\n",
    "    testStat = 2*((50*log(lamML)-lamML*np.sum(my_data))-(50*log(3)-3*np.sum(my_data)))\n",
    "    testStats = np.append(testStats,testStat)\n",
    "reject = np.count_nonzero(testStats>=critVal)/10000\n",
    "print('Reject the null: ',reject*100, '% of the time')"
   ]
  },
  {
   "cell_type": "markdown",
   "metadata": {},
   "source": [
    "### A Different Test\n",
    "\n",
    "We've explored hypothesis tests in this class before. Taking advantage of our computing power, we don't have to rely on test statistics with asymptotic distributions. Let's conduct a more direct hypothesis test using simulation. Recall:\n",
    "\n",
    "$$\n",
    "H_0: \\lambda = 3\n",
    "$$\n",
    "\n",
    "$$\n",
    "H_1: \\lambda \\neq 3\n",
    "$$\n",
    "\n",
    "Pick a different test statistic. Obtain an empirical distribution of that test statistic under $H_0$. Next, find the $p$-value by determining how often this test statistic is at or further away from the test statistic derived from the sample. Remember that this is a two-sided test. "
   ]
  },
  {
   "cell_type": "code",
   "execution_count": 78,
   "metadata": {},
   "outputs": [
    {
     "data": {
      "text/plain": [
       "0.1629730175431169"
      ]
     },
     "execution_count": 78,
     "metadata": {},
     "output_type": "execute_result"
    }
   ],
   "source": [
    "Sampledata = stats.expon.rvs(size=20,scale=1/5)\n",
    "SampletestStat = np.average(Sampledata)\n",
    "SampletestStat"
   ]
  },
  {
   "cell_type": "code",
   "execution_count": 80,
   "metadata": {},
   "outputs": [
    {
     "data": {
      "text/plain": [
       "0.9962"
      ]
     },
     "execution_count": 80,
     "metadata": {},
     "output_type": "execute_result"
    }
   ],
   "source": [
    "simStat = []\n",
    "for i in np.arange(10000):\n",
    "    simData = stats.expon.rvs(size=20,scale=1/3)\n",
    "    statistic = np.average(simData)\n",
    "    simStat = np.append(simStat,statistic)\n",
    "\n",
    "np.count_nonzero(simStat>=SampletestStat)/10000"
   ]
  },
  {
   "cell_type": "markdown",
   "metadata": {},
   "source": [
    "How did the $p$-value compare to the LRT $p$-value? I wonder how the power of this test compares to our LRT. "
   ]
  },
  {
   "cell_type": "markdown",
   "metadata": {},
   "source": [
    "#### Power\n",
    "\n",
    "Let's figure out the power of this test. First, determine for what values of the test statistic would lead us to reject $H_0$. These values can be referred to as your rejection region. "
   ]
  },
  {
   "cell_type": "code",
   "execution_count": 2,
   "metadata": {},
   "outputs": [],
   "source": [
    "hyp_true_data = []\n",
    "for i in np.arange(10000):\n",
    "    ts = 1/np.average(stats.expon.rvs(scale =1/3, size =20))\n",
    "    hyp_true_data = np.append(hyp_true_data, ts)"
   ]
  },
  {
   "cell_type": "code",
   "execution_count": 6,
   "metadata": {},
   "outputs": [
    {
     "name": "stdout",
     "output_type": "stream",
     "text": [
      "Reject interval: ( 2.17 , 4.5 )\n"
     ]
    }
   ],
   "source": [
    "upperReject = 4.5\n",
    "lowerReject = 2.17\n",
    "print('Reject interval: (',lowerReject,',',upperReject,')')"
   ]
  },
  {
   "cell_type": "markdown",
   "metadata": {},
   "source": [
    "Now, determine the power of this test. Like in the LRT case, obtain a sample of size 20 and obtain the test statistic. Repeat many times and see how often your test statistic is in your rejection region. "
   ]
  },
  {
   "cell_type": "code",
   "execution_count": 11,
   "metadata": {},
   "outputs": [
    {
     "data": {
      "text/plain": [
       "0.773"
      ]
     },
     "execution_count": 11,
     "metadata": {},
     "output_type": "execute_result"
    }
   ],
   "source": [
    "n = 20\n",
    "ML_lams = []\n",
    "reject = []\n",
    "for i in np.arange(10000):\n",
    "    ts = 1/(np.average(np.random.choice(my_data, n, replace =True)))\n",
    "    ML_lams = np.append(ML_lams, ts)\n",
    "    if (upperReject < ts) or (lowerReject > ts):\n",
    "        reject = np.append(reject, True)\n",
    "    else:\n",
    "        reject = np.append(reject, False)\n",
    "sum(reject)/10000"
   ]
  },
  {
   "cell_type": "markdown",
   "metadata": {},
   "source": [
    "Repeat for a sample size of 50. Note that you will have to obtain new critical values in order to do this.  "
   ]
  },
  {
   "cell_type": "code",
   "execution_count": 13,
   "metadata": {},
   "outputs": [],
   "source": [
    "hyptrue = []\n",
    "for i in np.arange(10000):\n",
    "    ts = 1/np.average(stats.expon.rvs(scale =1/3, size =50))\n",
    "    hyptrue = np.append(hyptrue, ts)"
   ]
  },
  {
   "cell_type": "code",
   "execution_count": 14,
   "metadata": {},
   "outputs": [
    {
     "name": "stdout",
     "output_type": "stream",
     "text": [
      "Reject interval: ( 2.43 , 3.86 )\n"
     ]
    }
   ],
   "source": [
    "upperReject50 = 3.86\n",
    "lowerReject50 = 2.43\n",
    "print('Reject interval: (',lowerReject50,',',upperReject50,')')"
   ]
  },
  {
   "cell_type": "code",
   "execution_count": 15,
   "metadata": {},
   "outputs": [
    {
     "data": {
      "text/plain": [
       "0.9944"
      ]
     },
     "execution_count": 15,
     "metadata": {},
     "output_type": "execute_result"
    }
   ],
   "source": [
    "n = 50\n",
    "ML_lams = []\n",
    "reject = []\n",
    "for i in np.arange(10000):\n",
    "    ts = 1/(np.average(np.random.choice(my_data, n, replace =True)))\n",
    "    ML_lams = np.append(ML_lams, ts)\n",
    "    if (upperReject50 < ts) or (lowerReject50 > ts):\n",
    "        reject = np.append(reject, True)\n",
    "    else:\n",
    "        reject = np.append(reject, False)\n",
    "sum(reject)/10000"
   ]
  },
  {
   "cell_type": "code",
   "execution_count": null,
   "metadata": {},
   "outputs": [],
   "source": []
  }
 ],
 "metadata": {
  "kernelspec": {
   "display_name": "Python 3",
   "language": "python",
   "name": "python3"
  },
  "language_info": {
   "codemirror_mode": {
    "name": "ipython",
    "version": 3
   },
   "file_extension": ".py",
   "mimetype": "text/x-python",
   "name": "python",
   "nbconvert_exporter": "python",
   "pygments_lexer": "ipython3",
   "version": "3.6.5"
  }
 },
 "nbformat": 4,
 "nbformat_minor": 2
}
