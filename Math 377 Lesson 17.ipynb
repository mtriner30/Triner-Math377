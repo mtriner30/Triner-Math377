{
 "cells": [
  {
   "cell_type": "code",
   "execution_count": 3,
   "metadata": {},
   "outputs": [],
   "source": [
    "from datascience import *\n",
    "import numpy as np\n",
    "from math import *"
   ]
  },
  {
   "cell_type": "markdown",
   "metadata": {},
   "source": [
    "## Transformations"
   ]
  },
  {
   "cell_type": "markdown",
   "metadata": {},
   "source": [
    "In some cases, we may be interested in the distribution of a transformation of a random variable. For example, if we know the distribution of $X$, we may wish to know the distribution of $X^2$ or $2X$. \n",
    "\n",
    "It helps to consider the pmf/cdf of the original random variables. Let $Y=t(X)$ where $X$ is discrete:\n",
    "\n",
    "$$\n",
    "f_Y(y)=P(Y=y) = P(t(X)=y) = P( X = t^{-1}(y))\n",
    "$$\n",
    "\n",
    "In the continuous case, let's consider the cdf:\n",
    "\n",
    "$$\n",
    "F_Y(y)=P(Y\\leq y) = P(t(X)\\leq y) = P(X \\leq t^{-1}(y)) = F_X(t^{-1}(y))\n",
    "$$"
   ]
  },
  {
   "cell_type": "markdown",
   "metadata": {},
   "source": [
    "### Discrete"
   ]
  },
  {
   "cell_type": "markdown",
   "metadata": {},
   "source": [
    "###### Example 1\n",
    "\n",
    "Suppose the pmf for $X$ is given by the following table: \n",
    "\n",
    " | value of $X$  | -2 | -1 | 0 | 1 | 2 | \n",
    " | ------ | ------ | ----- | ----- | ----- | ----- |\n",
    " | probability | 0.05 | 0.10 | 0.35 | 0.30 | 0.20 |\n",
    "\n",
    "Find the distribution of $X^2$ and calculate $E(X^2)$. Does $E(X^2) = [E(X)]^2$? "
   ]
  },
  {
   "cell_type": "markdown",
   "metadata": {},
   "source": [
    "##### Distribution of X^2\n",
    "\n",
    "\n",
    " | value of $X$  | 0 | 1 | 4 |\n",
    " | ------ | ------ | ----- |\n",
    " | probability | 0.35 | 0.40 | 0.25 |\n"
   ]
  },
  {
   "cell_type": "markdown",
   "metadata": {},
   "source": [
    "E(X^2) = 1.4 which is not equal to [E(X)]^2 = .5"
   ]
  },
  {
   "cell_type": "markdown",
   "metadata": {},
   "source": [
    "#### Example 2\n",
    "Let $X \\sim \\textsf{Binom}(n,p)$. What is the pmf for $X+3$? Make sure you specify the domain of $X+3$. "
   ]
  },
  {
   "cell_type": "markdown",
   "metadata": {},
   "source": [
    "P(Y = y) = (n choose y-3) * p^(y-3) * (1-p)^(n-y+3) on the domain [3,n+3]"
   ]
  },
  {
   "cell_type": "markdown",
   "metadata": {},
   "source": [
    "#### Example 3\n",
    "\n",
    "Let $X \\sim \\textsf{Unif}(0,1)$. Let $Y=X^2$. Find the **pdf** of $Y$. Again, specify the domain of $Y$. "
   ]
  },
  {
   "cell_type": "markdown",
   "metadata": {},
   "source": [
    "pdf of Y = .5y^(-.5) on the domain (0,1]"
   ]
  },
  {
   "cell_type": "markdown",
   "metadata": {},
   "source": [
    "## Moment Generating Functions (MGF)"
   ]
  },
  {
   "cell_type": "markdown",
   "metadata": {},
   "source": [
    "One powerful concept in probability is the moment generating function (mgf). Let $X$ be a random variable. The mgf of $X$ is denoted by $M_X(t)$. This function is powerful because it can be used as a shortcut to find the $k$th central moment. Specifically,\n",
    "\n",
    "$$\n",
    "E(X^k) = \\frac{d^k}{dt^k} M_X(t) \\bigg |_{t=0}\n",
    "$$\n",
    "\n",
    "If you know the moment generating function of $X$, you can simply take the derivative of it with respect to $t$, evaluate at $t=0$ and the result is the expected value of $X$, $E(X)$. \n",
    "\n",
    "The mgf of $X$ is found by\n",
    "\n",
    "$$\n",
    "M_X(t) = E(e^{tX})\n",
    "$$\n",
    "\n",
    "#### Example 4: \n",
    "\n",
    "Let $X$ be a random variable with the exponential distribution with parameter $\\lambda >0$. Recall that $f_X(x) = \\lambda e^{-\\lambda x}$, for $x>0$. Find the mgf of $X$. Use it to verify that $E(X) = \\frac{1}{\\lambda}$. \n",
    "\n"
   ]
  },
  {
   "cell_type": "markdown",
   "metadata": {},
   "source": [
    "E(X^k) = integral x^k * f(x)dx\n",
    "mgf = integral e^(tx) * f(x)dx = integral e^(tx) * l*e^(-lx)dx from 0 to infinity\n"
   ]
  },
  {
   "cell_type": "markdown",
   "metadata": {},
   "source": [
    " "
   ]
  },
  {
   "cell_type": "markdown",
   "metadata": {},
   "source": [
    "#### Example 5:\n",
    "\n",
    "The moment generating function of a random variable with the binomial distribution (with parameters $n$ and $p$) is given by $M_X(t) = (pe^t + 1 - p)^n$. Use the mgf to verify that $E(X)=np$ and $V(X)=np(1-p)$. Note that $V(X)=E(X^2)-[E(X)]^2$. "
   ]
  },
  {
   "cell_type": "markdown",
   "metadata": {},
   "source": [
    "differentiating Mx(t) gives : p*e^(t)*n(p*e^(t)+1-p)^(n-1), evaluated at t = 0 gives p*n(p+1-p) = n*p = E(X)"
   ]
  },
  {
   "cell_type": "markdown",
   "metadata": {},
   "source": [
    "### Important Results\n",
    "\n",
    "1) Let $X$ and $Y$ be random variables with mgfs $M_X$ and $M_Y$. $X$ and $Y$ are said to be identically distributed if and only if $M_X(t) = M_Y(t)$ for all $t$ in som interval containing 0. \n",
    "\n",
    "2) MGF of linear transformation of random variable: If $a$ and $b$ are constants, then \n",
    "\n",
    "$$\n",
    "M_{aX+b}(t) = e^{bt}M_X(at)\n",
    "$$\n",
    "\n",
    "3) MGF of sum of independent random variables: If $X$ and $Y$ are independent random variables with mgfs $M_X$ and $M_Y$, then\n",
    "\n",
    "$$\n",
    "M_{X+Y}(t)=M_X(t) \\cdot M_Y(t)\n",
    "$$\n",
    "\n",
    " "
   ]
  },
  {
   "cell_type": "markdown",
   "metadata": {},
   "source": [
    "#### Example 6 \n",
    "\n",
    "Let $X \\sim \\textsf{Exp}(\\lambda)$. Find the distribution of $Y=3X$."
   ]
  },
  {
   "cell_type": "code",
   "execution_count": 4,
   "metadata": {},
   "outputs": [],
   "source": [
    "from scipy import stats\n",
    "from scipy.stats import expon"
   ]
  },
  {
   "cell_type": "code",
   "execution_count": 13,
   "metadata": {},
   "outputs": [
    {
     "data": {
      "text/html": [
       "<table border=\"1\" class=\"dataframe\">\n",
       "    <thead>\n",
       "        <tr>\n",
       "            <th>Y</th> <th>Fy(y)</th> <th>X</th> <th>Fx(x)</th>\n",
       "        </tr>\n",
       "    </thead>\n",
       "    <tbody>\n",
       "        <tr>\n",
       "            <td>0   </td> <td>0       </td> <td>0   </td> <td>0       </td>\n",
       "        </tr>\n",
       "        <tr>\n",
       "            <td>0.2 </td> <td>0.064493</td> <td>0.2 </td> <td>0.181269</td>\n",
       "        </tr>\n",
       "        <tr>\n",
       "            <td>0.4 </td> <td>0.124827</td> <td>0.4 </td> <td>0.32968 </td>\n",
       "        </tr>\n",
       "        <tr>\n",
       "            <td>0.6 </td> <td>0.181269</td> <td>0.6 </td> <td>0.451188</td>\n",
       "        </tr>\n",
       "        <tr>\n",
       "            <td>0.8 </td> <td>0.234072</td> <td>0.8 </td> <td>0.550671</td>\n",
       "        </tr>\n",
       "        <tr>\n",
       "            <td>1   </td> <td>0.283469</td> <td>1   </td> <td>0.632121</td>\n",
       "        </tr>\n",
       "        <tr>\n",
       "            <td>1.2 </td> <td>0.32968 </td> <td>1.2 </td> <td>0.698806</td>\n",
       "        </tr>\n",
       "        <tr>\n",
       "            <td>1.4 </td> <td>0.372911</td> <td>1.4 </td> <td>0.753403</td>\n",
       "        </tr>\n",
       "        <tr>\n",
       "            <td>1.6 </td> <td>0.413354</td> <td>1.6 </td> <td>0.798103</td>\n",
       "        </tr>\n",
       "        <tr>\n",
       "            <td>1.8 </td> <td>0.451188</td> <td>1.8 </td> <td>0.834701</td>\n",
       "        </tr>\n",
       "    </tbody>\n",
       "</table>\n",
       "<p>... (5 rows omitted)</p>"
      ],
      "text/plain": [
       "Y    | Fy(y)    | X    | Fx(x)\n",
       "0    | 0        | 0    | 0\n",
       "0.2  | 0.064493 | 0.2  | 0.181269\n",
       "0.4  | 0.124827 | 0.4  | 0.32968\n",
       "0.6  | 0.181269 | 0.6  | 0.451188\n",
       "0.8  | 0.234072 | 0.8  | 0.550671\n",
       "1    | 0.283469 | 1    | 0.632121\n",
       "1.2  | 0.32968  | 1.2  | 0.698806\n",
       "1.4  | 0.372911 | 1.4  | 0.753403\n",
       "1.6  | 0.413354 | 1.6  | 0.798103\n",
       "1.8  | 0.451188 | 1.8  | 0.834701\n",
       "... (5 rows omitted)"
      ]
     },
     "execution_count": 13,
     "metadata": {},
     "output_type": "execute_result"
    }
   ],
   "source": [
    "distribution=Table().with_columns('Y', np.arange(0,3, .2),'Fy(y)', stats.expon.cdf(np.arange(0,3, .2)/3, 0, 1),'X', np.arange(0, 3, .2),'Fx(x)', stats.expon.cdf(np.arange(0, 3, .2), 0, 1))\n",
    "distribution"
   ]
  },
  {
   "cell_type": "markdown",
   "metadata": {},
   "source": [
    "#### Example 7 \n",
    "\n",
    "Suppose $X_1, X_2, ..., X_n$ are independent identically distributed $\\textsf{Norm}(\\mu,\\sigma)$. Find the distribution of $S=X_1+X_2+...+X_n$ and $\\bar{X} = \\frac{X_1+X_2+...+X_n}{n}$. Note that the mgf of a normally distributed random variable is $M_X(t)=e^{\\mu t+\\sigma^2 t^2/2}$."
   ]
  },
  {
   "cell_type": "markdown",
   "metadata": {},
   "source": [
    "differentiate Mx(t): e^(mu*t+(sigma^2)(t^2)/2) with respect to t and evaluate at t=0."
   ]
  }
 ],
 "metadata": {
  "kernelspec": {
   "display_name": "Python 3",
   "language": "python",
   "name": "python3"
  },
  "language_info": {
   "codemirror_mode": {
    "name": "ipython",
    "version": 3
   },
   "file_extension": ".py",
   "mimetype": "text/x-python",
   "name": "python",
   "nbconvert_exporter": "python",
   "pygments_lexer": "ipython3",
   "version": "3.6.5"
  }
 },
 "nbformat": 4,
 "nbformat_minor": 2
}
